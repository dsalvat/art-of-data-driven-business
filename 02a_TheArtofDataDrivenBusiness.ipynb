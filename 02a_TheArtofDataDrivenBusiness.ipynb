{
  "nbformat": 4,
  "nbformat_minor": 0,
  "metadata": {
    "colab": {
      "provenance": [],
      "authorship_tag": "ABX9TyPtWSwQc7kkHIqZKiLKJijM",
      "include_colab_link": true
    },
    "kernelspec": {
      "name": "python3",
      "display_name": "Python 3"
    },
    "language_info": {
      "name": "python"
    }
  },
  "cells": [
    {
      "cell_type": "markdown",
      "metadata": {
        "id": "view-in-github",
        "colab_type": "text"
      },
      "source": [
        "<a href=\"https://colab.research.google.com/github/dsalvat/art-of-data-driven-business/blob/main/02a_TheArtofDataDrivenBusiness.ipynb\" target=\"_parent\"><img src=\"https://colab.research.google.com/assets/colab-badge.svg\" alt=\"Open In Colab\"/></a>"
      ]
    },
    {
      "cell_type": "code",
      "execution_count": 7,
      "metadata": {
        "colab": {
          "base_uri": "https://localhost:8080/"
        },
        "id": "MMuPJbUB1xos",
        "outputId": "897fda46-e5c9-4718-9023-9d1598bacd0b"
      },
      "outputs": [
        {
          "output_type": "stream",
          "name": "stdout",
          "text": [
            "t= -2.845, p = 0.007\n"
          ]
        }
      ],
      "source": [
        "from scipy.stats import ttest_ind\n",
        "import pandas as pd\n",
        "dm = pd.read_csv('matzke_et_al.csv')\n",
        "dm_horizontal = dm[dm.Condition =='Horizontal']\n",
        "dm_fixation = dm[dm.Condition == 'Fixation']\n",
        "t, p = ttest_ind(dm_horizontal.CriticalRecall, dm_fixation.CriticalRecall)\n",
        "print('t= {:.3f}, p = {:.3f}'.format(t,p))"
      ]
    },
    {
      "cell_type": "code",
      "source": [
        "import seaborn as sns\n",
        "import matplotlib.pyplot as plt\n",
        "\n",
        "sns.barplot(x='Condition', y=\"CriticalRecall\", data=dm)\n",
        "plt.xlabel('Condition')\n",
        "plt.ylabel('Memory performance')\n",
        "plt.show()"
      ],
      "metadata": {
        "colab": {
          "base_uri": "https://localhost:8080/",
          "height": 279
        },
        "id": "SU-iqWGq6MtP",
        "outputId": "38fd2d44-02cc-4465-e7c1-16565062f435"
      },
      "execution_count": 13,
      "outputs": [
        {
          "output_type": "display_data",
          "data": {
            "text/plain": [
              "<Figure size 432x288 with 1 Axes>"
            ],
            "image/png": "[encoded data removed]"
          },
          "metadata": {
            "needs_background": "light"
          }
        }
      ]
    },
    {
      "cell_type": "code",
      "source": [
        "from scipy.stats import ttest_rel\n",
        "dm = pd.read_csv('moon-aggression.csv')\n",
        "t, p = ttest_rel(dm.Moon, dm.Other)\n",
        "print('t= {:.3f}, p = {:.3f}'.format(t,p))"
      ],
      "metadata": {
        "colab": {
          "base_uri": "https://localhost:8080/"
        },
        "id": "FX0CkHec607J",
        "outputId": "e8315c29-6dbf-41e1-ad14-c6e3c2b3f640"
      },
      "execution_count": 14,
      "outputs": [
        {
          "output_type": "stream",
          "name": "stdout",
          "text": [
            "t= 6.452, p = 0.000\n"
          ]
        }
      ]
    },
    {
      "cell_type": "code",
      "source": [
        "from statsmodels.stats.anova import anova_lm\n",
        "from statsmodels.formula.api import ols \n",
        "\n",
        "dm = pd.read_csv('heartrate.csv')\n",
        "dm = dm.rename({'Heart Rate': 'HeartRate'}, axis=1)\n",
        "df = anova_lm(ols('HeartRate ~ Gender * Group', data=dm).fit())\n",
        "print(df)"
      ],
      "metadata": {
        "colab": {
          "base_uri": "https://localhost:8080/"
        },
        "id": "pgmwPZXf8FHP",
        "outputId": "bd1b844b-e1e0-4f2b-859a-75ecec858cbb"
      },
      "execution_count": 23,
      "outputs": [
        {
          "output_type": "stream",
          "name": "stdout",
          "text": [
            "                 df      sum_sq        mean_sq           F         PR(>F)\n",
            "Gender          1.0   45030.005   45030.005000  185.979949   3.287945e-38\n",
            "Group           1.0  168432.080  168432.080000  695.647040  1.149926e-110\n",
            "Gender:Group    1.0    1794.005    1794.005000    7.409481   6.629953e-03\n",
            "Residual      796.0  192729.830     242.122902         NaN            NaN\n"
          ]
        }
      ]
    },
    {
      "cell_type": "code",
      "source": [
        "dm = pd.read_csv('gpa.csv')\n",
        "model = ols('gpa ~ satm + satv', data=dm).fit()\n",
        "print(model.summary())\n"
      ],
      "metadata": {
        "colab": {
          "base_uri": "https://localhost:8080/"
        },
        "id": "yQgmjsb8-lKB",
        "outputId": "ced7d8c5-8279-42a6-d99c-ad193f4b3004"
      },
      "execution_count": 24,
      "outputs": [
        {
          "output_type": "stream",
          "name": "stdout",
          "text": [
            "                            OLS Regression Results                            \n",
            "==============================================================================\n",
            "Dep. Variable:                    gpa   R-squared:                       0.063\n",
            "Model:                            OLS   Adj. R-squared:                  0.055\n",
            "Method:                 Least Squares   F-statistic:                     7.476\n",
            "Date:                Sat, 25 Feb 2023   Prob (F-statistic):           0.000722\n",
            "Time:                        23:51:21   Log-Likelihood:                -254.18\n",
            "No. Observations:                 224   AIC:                             514.4\n",
            "Df Residuals:                     221   BIC:                             524.6\n",
            "Df Model:                           2                                         \n",
            "Covariance Type:            nonrobust                                         \n",
            "==============================================================================\n",
            "                 coef    std err          t      P>|t|      [0.025      0.975]\n",
            "------------------------------------------------------------------------------\n",
            "Intercept      1.2887      0.376      3.427      0.001       0.548       2.030\n",
            "satm           0.0023      0.001      3.444      0.001       0.001       0.004\n",
            "satv       -2.456e-05      0.001     -0.040      0.968      -0.001       0.001\n",
            "==============================================================================\n",
            "Omnibus:                       23.688   Durbin-Watson:                   1.715\n",
            "Prob(Omnibus):                  0.000   Jarque-Bera (JB):               27.838\n",
            "Skew:                          -0.809   Prob(JB):                     9.02e-07\n",
            "Kurtosis:                       3.601   Cond. No.                     5.85e+03\n",
            "==============================================================================\n",
            "\n",
            "Notes:\n",
            "[1] Standard Errors assume that the covariance matrix of the errors is correctly specified.\n",
            "[2] The condition number is large, 5.85e+03. This might indicate that there are\n",
            "strong multicollinearity or other numerical problems.\n"
          ]
        }
      ]
    },
    {
      "cell_type": "code",
      "source": [
        "import numpy as np\n",
        "import pandas as pd\n",
        "\n",
        "df = pd.DataFrame(\n",
        "    [(.2, .3, .8), (.0,.6,.9),(.6,.0,.4),\n",
        "     (.2, .1, .9), (.1,.3,.7),(.1,.5,.6), (.7,.1,.5), (.3,.0,.8),],\n",
        "     columns = ['dogs','cats','birds'])\n",
        "corr_mat = df.corr()\n",
        "\n",
        "import seaborn as sn\n",
        "sn.heatmap(corr_mat, annot=True)"
      ],
      "metadata": {
        "colab": {
          "base_uri": "https://localhost:8080/",
          "height": 286
        },
        "id": "HC0_JkD4CEgx",
        "outputId": "6ff64546-c1d6-4cfc-f5f2-ed87776e58a0"
      },
      "execution_count": 26,
      "outputs": [
        {
          "output_type": "execute_result",
          "data": {
            "text/plain": [
              "<AxesSubplot:>"
            ]
          },
          "metadata": {},
          "execution_count": 26
        },
        {
          "output_type": "display_data",
          "data": {
            "text/plain": [
              "<Figure size 432x288 with 2 Axes>"
            ],
            "image/png": "[encoded data removed]"
          },
          "metadata": {
            "needs_background": "light"
          }
        }
      ]
    },
    {
      "cell_type": "code",
      "source": [
        "df1=pd.DataFrame( np.random.randn(3,2), columns=['a','b'])\n",
        "df2=pd.DataFrame( np.random.randn(3,2), columns=['a','b'])\n",
        "\n",
        "corr_mat = df1.corr()\n",
        "sn.heatmap(corr_mat, annot=True)\n",
        "plt.show()"
      ],
      "metadata": {
        "colab": {
          "base_uri": "https://localhost:8080/",
          "height": 269
        },
        "id": "X_IDzRwiC3g0",
        "outputId": "71c2472b-74c5-4e6a-8e01-bda4b618b24c"
      },
      "execution_count": 27,
      "outputs": [
        {
          "output_type": "display_data",
          "data": {
            "text/plain": [
              "<Figure size 432x288 with 2 Axes>"
            ],
            "image/png": "[encoded data removed]"
          },
          "metadata": {
            "needs_background": "light"
          }
        }
      ]
    },
    {
      "cell_type": "code",
      "source": [
        "df1.corrwith(df2)"
      ],
      "metadata": {
        "colab": {
          "base_uri": "https://localhost:8080/"
        },
        "id": "0VURufR0DZiu",
        "outputId": "3d6a475b-03fa-4bfd-9edb-3ecd2312220e"
      },
      "execution_count": 28,
      "outputs": [
        {
          "output_type": "execute_result",
          "data": {
            "text/plain": [
              "a   -0.737712\n",
              "b    0.653411\n",
              "dtype: float64"
            ]
          },
          "metadata": {},
          "execution_count": 28
        }
      ]
    },
    {
      "cell_type": "code",
      "source": [
        "df1.corrwith(df2.set_axis(df1.columns, axis='columns', inplace=False))"
      ],
      "metadata": {
        "colab": {
          "base_uri": "https://localhost:8080/"
        },
        "id": "QuHmnlHlDeCh",
        "outputId": "a1181d6f-3b29-4302-a521-73dd10e68fdc"
      },
      "execution_count": 29,
      "outputs": [
        {
          "output_type": "execute_result",
          "data": {
            "text/plain": [
              "a   -0.737712\n",
              "b    0.653411\n",
              "dtype: float64"
            ]
          },
          "metadata": {},
          "execution_count": 29
        }
      ]
    },
    {
      "cell_type": "code",
      "source": [
        "corr_mat = pd.concat([df1, df2], axis=1).corr()\n",
        "sn.heatmap(corr_mat, annot=True)\n",
        "plt.show()"
      ],
      "metadata": {
        "colab": {
          "base_uri": "https://localhost:8080/",
          "height": 269
        },
        "id": "w15zv1LfDnqx",
        "outputId": "ea939d09-bbbc-497d-89c0-94228581d5eb"
      },
      "execution_count": 30,
      "outputs": [
        {
          "output_type": "display_data",
          "data": {
            "text/plain": [
              "<Figure size 432x288 with 2 Axes>"
            ],
            "image/png": "[encoded data removed]"
          },
          "metadata": {
            "needs_background": "light"
          }
        }
      ]
    }
  ]
}